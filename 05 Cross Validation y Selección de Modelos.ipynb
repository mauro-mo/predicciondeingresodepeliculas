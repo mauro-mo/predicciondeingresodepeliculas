{
 "cells": [
  {
   "cell_type": "code",
   "execution_count": 1,
   "metadata": {},
   "outputs": [],
   "source": [
    "import warnings\n",
    "warnings.simplefilter('ignore')"
   ]
  },
  {
   "cell_type": "code",
   "execution_count": 2,
   "metadata": {},
   "outputs": [],
   "source": [
    "%matplotlib inline\n",
    "import numpy as np\n",
    "import pandas as pd\n",
    "import matplotlib.pyplot as plt"
   ]
  },
  {
   "cell_type": "markdown",
   "metadata": {},
   "source": [
    "Por ahora hemos visto que:\n",
    "\n",
    "Se necesita separar de forma aleatoria en datos de entrenamiento y testeo para poder evaluar performance del algoritmo.\n",
    "Existen diversas métricas para evaluar rendimiento, y elegimos la nuestra según las caracteristicas de nuestro problema.\n",
    "Es útil apoyar la evaluación con visualizaciones de errores, como por ejemplo scatterplots de residuales.\n",
    "Sin embargo nuestro método hasta ahora tiene una falla. Este depende de la forma en que fueron elegidos nuestros datos de forma aleatoria:\n",
    "\n",
    "Podemos tener suerte y caer en un train set y test set que sea ideal para nuestro modelo.\n",
    "Podemos tener pésima performance con esa separación de datos pero no en otros.\n",
    "\n",
    "Controlar la aleatoridad en train_test_split:\n",
    "\n",
    "train_test_split separa cada vez que lo llamamos los datos de forma diferente. Para poder comparar modelos, hacer un código más limpio y compacto y para poder hacer nuestros experimentos reproducibles utilizaremos el parametro random_state."
   ]
  },
  {
   "cell_type": "code",
   "execution_count": 3,
   "metadata": {
    "scrolled": true
   },
   "outputs": [],
   "source": [
    "X = pd.read_csv('X_open.csv')\n",
    "y = X['worldwide_gross']\n",
    "X = X.drop('worldwide_gross', axis=1)"
   ]
  },
  {
   "cell_type": "code",
   "execution_count": 4,
   "metadata": {},
   "outputs": [],
   "source": [
    "from sklearn.model_selection import train_test_split\n",
    "\n",
    "X_train, X_test, y_train, y_test = train_test_split(X,y, random_state=1)"
   ]
  },
  {
   "cell_type": "code",
   "execution_count": 5,
   "metadata": {},
   "outputs": [],
   "source": [
    "X2_train, X2_test, y2_train, y2_test = train_test_split(X,y, random_state=1)"
   ]
  },
  {
   "cell_type": "code",
   "execution_count": 6,
   "metadata": {},
   "outputs": [
    {
     "data": {
      "text/plain": [
       "True"
      ]
     },
     "execution_count": 6,
     "metadata": {},
     "output_type": "execute_result"
    }
   ],
   "source": [
    "#controlamos la aleatoriedad. ambos tienen el mismo conjunto de datos.\n",
    "\n",
    "pd.DataFrame.equals(X_train, X2_train)"
   ]
  },
  {
   "cell_type": "code",
   "execution_count": 7,
   "metadata": {},
   "outputs": [
    {
     "data": {
      "text/plain": [
       "array([0.59316596, 0.68931527, 0.55383855, 0.18147236, 0.23040894])"
      ]
     },
     "execution_count": 7,
     "metadata": {},
     "output_type": "execute_result"
    }
   ],
   "source": [
    "from sklearn.model_selection import cross_val_score\n",
    "from sklearn.linear_model import Lasso\n",
    "\n",
    "scores = cross_val_score(Lasso(), X, y, cv=5, scoring='r2')\n",
    "scores"
   ]
  },
  {
   "cell_type": "markdown",
   "metadata": {},
   "source": [
    "Nos da 5 scores. Hay que promediar"
   ]
  },
  {
   "cell_type": "code",
   "execution_count": 8,
   "metadata": {},
   "outputs": [
    {
     "data": {
      "text/plain": [
       "0.44964021745791777"
      ]
     },
     "execution_count": 8,
     "metadata": {},
     "output_type": "execute_result"
    }
   ],
   "source": [
    "scores.mean()"
   ]
  },
  {
   "cell_type": "code",
   "execution_count": 9,
   "metadata": {},
   "outputs": [
    {
     "data": {
      "text/plain": [
       "0.7926190294963359"
      ]
     },
     "execution_count": 9,
     "metadata": {},
     "output_type": "execute_result"
    }
   ],
   "source": [
    "#Lo comparemos con un score de train_test_split\n",
    "\n",
    "Lasso().fit(X_train, y_train).score(X_test, y_test)\n",
    "\n"
   ]
  },
  {
   "cell_type": "markdown",
   "metadata": {},
   "source": [
    "Es un poco tramposo usar el train_test_split porque siempre nos da un score muy alto (una visión optimista de los datos). Es mejor pensar en cross_validation porque nos da un score más robusto (más real)"
   ]
  },
  {
   "cell_type": "markdown",
   "metadata": {},
   "source": [
    " "
   ]
  },
  {
   "cell_type": "markdown",
   "metadata": {},
   "source": [
    "Selección de modelos:\n",
    "Overfitting o underfitting?\n",
    "\n",
    "Recuerden que para saber si estamos en overfitting o en underfitting necesitamos los scores de entrenamiento y test."
   ]
  },
  {
   "cell_type": "markdown",
   "metadata": {},
   "source": [
    "Por lo general un sesgo alto (bias) está relacionado al underfitting y una varianza alta está relacionada al overfitting.\n",
    "\n",
    "Bias (sesgo alto) = underfitting  \n",
    "Varianza alta = overfitting"
   ]
  },
  {
   "cell_type": "code",
   "execution_count": 10,
   "metadata": {},
   "outputs": [
    {
     "data": {
      "text/plain": [
       "{'fit_time': array([0.00590086, 0.00272846, 0.02739716, 0.01226521, 0.02470756]),\n",
       " 'score_time': array([0.00099993, 0.00402308, 0.00205183, 0.0023632 , 0.00400162]),\n",
       " 'test_score': array([0.59316596, 0.68931527, 0.55383855, 0.18147236, 0.23040894]),\n",
       " 'train_score': array([0.68988012, 0.77004932, 0.76604995, 0.76123379, 0.75837599])}"
      ]
     },
     "execution_count": 10,
     "metadata": {},
     "output_type": "execute_result"
    }
   ],
   "source": [
    "from sklearn.model_selection import cross_validate\n",
    "\n",
    "results = cross_validate(Lasso(),X,y,return_train_score=True,cv=5)\n",
    "results\n",
    "\n",
    "#fit_time: calcula el tiempo de entrenamiento\n",
    "#score_time: el tiempo de calcular el score\n",
    "#test_score: el score de testeo\n",
    "#train_score: el score de entrenamiento"
   ]
  },
  {
   "cell_type": "code",
   "execution_count": 11,
   "metadata": {},
   "outputs": [
    {
     "name": "stdout",
     "output_type": "stream",
     "text": [
      "0.7491178363039035\n",
      "0.44964021745791777\n"
     ]
    }
   ],
   "source": [
    "test_scores = results['test_score']\n",
    "train_scores = results['train_score']\n",
    "print(np.mean(train_scores))\n",
    "print(np.mean(test_scores))"
   ]
  },
  {
   "cell_type": "markdown",
   "metadata": {},
   "source": [
    "Hay una gran diferencia entre los dos scores. Eso quiere decir que hay una varianza alta. Sin embargo, una score de entrenamiento 74% no es malo, pero tampoco es muy bueno. Por lo mismo también podemos decir que nuestro modelo tiene sesgo. Asi que en este tipo de situación es un poco más complejo que deir que simplemente estamos en overfitting. Mas bien nuestro modelo no está encajando bien con los datos, es decir, ha llegado a un tope de calidad de entrenamiento (el modelo Laso con estos datos no logra ir mucho más allá). Es hora de buscar nuevos modelos. "
   ]
  },
  {
   "cell_type": "markdown",
   "metadata": {},
   "source": [
    "Vamos a ver lo que es una Validation Curves (curva de validación) y una  Learning Curves (curva de aprendizaje)"
   ]
  },
  {
   "cell_type": "code",
   "execution_count": 12,
   "metadata": {},
   "outputs": [
    {
     "data": {
      "text/plain": [
       "{'fit_time': array([0.02130914, 0.        , 0.        , 0.        , 0.        ]),\n",
       " 'score_time': array([0.01567936, 0.01562953, 0.01562142, 0.01562142, 0.        ]),\n",
       " 'test_score': array([0.3647382 , 0.59274527, 0.21545625, 0.15143495, 0.25635077]),\n",
       " 'train_score': array([0.73553883, 0.78647652, 0.78386739, 0.77876542, 0.77477287])}"
      ]
     },
     "execution_count": 12,
     "metadata": {},
     "output_type": "execute_result"
    }
   ],
   "source": [
    "from sklearn.neighbors import KNeighborsRegressor\n",
    "\n",
    "cross_validate(KNeighborsRegressor(), X, y, cv=5, return_train_score=True)\n",
    "\n",
    "\n",
    "#Nos da un score de entrenamiento similar al del Laso y un poco más bajo en el socre del test"
   ]
  },
  {
   "cell_type": "code",
   "execution_count": 13,
   "metadata": {},
   "outputs": [
    {
     "data": {
      "text/plain": [
       "{'fit_time': array([0.00474572, 0.00438666, 0.0041585 , 0.        , 0.        ]),\n",
       " 'score_time': array([0.00785232, 0.00985146, 0.01200199, 0.01561666, 0.01562786]),\n",
       " 'test_score': array([0.23553954, 0.61921355, 0.24881301, 0.1209604 , 0.2466995 ]),\n",
       " 'train_score': array([0.67830521, 0.76365722, 0.76231726, 0.75701303, 0.75061953])}"
      ]
     },
     "execution_count": 13,
     "metadata": {},
     "output_type": "execute_result"
    }
   ],
   "source": [
    "#por defecto el algoritmo ocupa 5 numeros de vecinos, vamos a probarlo con 10 vecinos\n",
    "\n",
    "cross_validate(KNeighborsRegressor(n_neighbors=10), X, y, cv=5, return_train_score=True)\n",
    "\n",
    "#Empeoré el score de entrenamiento y el score de test también bajo un poco."
   ]
  },
  {
   "cell_type": "markdown",
   "metadata": {},
   "source": [
    "Como podemos hacer esto de una forma más sistemática? COn la curva de validación"
   ]
  },
  {
   "cell_type": "code",
   "execution_count": 14,
   "metadata": {},
   "outputs": [
    {
     "data": {
      "text/plain": [
       "array([ 2,  4,  6,  8, 10, 12, 14, 16, 18, 20, 22, 24, 26, 28, 30, 32, 34,\n",
       "       36, 38, 40, 42, 44, 46, 48])"
      ]
     },
     "execution_count": 14,
     "metadata": {},
     "output_type": "execute_result"
    }
   ],
   "source": [
    "#voy a testar con todos estos valores el parámetro cantidad de vecinos y ver qué resultados me da eso\n",
    "n = np.arange(2,50,2)\n",
    "n"
   ]
  },
  {
   "cell_type": "code",
   "execution_count": 15,
   "metadata": {},
   "outputs": [
    {
     "data": {
      "text/plain": [
       "(24,)"
      ]
     },
     "execution_count": 15,
     "metadata": {},
     "output_type": "execute_result"
    }
   ],
   "source": [
    "#vamos a entrenar en total 24 modelos con parámetros distintos\n",
    "\n",
    "n.shape"
   ]
  },
  {
   "cell_type": "code",
   "execution_count": 16,
   "metadata": {},
   "outputs": [],
   "source": [
    "#Curva de validación\n",
    "\n",
    "from sklearn.model_selection import validation_curve\n",
    "\n",
    "train_scores, test_scores = validation_curve(KNeighborsRegressor(),\n",
    "                                            X,\n",
    "                                            y,\n",
    "                                            param_name='n_neighbors',\n",
    "                                            param_range=n,\n",
    "                                            cv=5)"
   ]
  },
  {
   "cell_type": "code",
   "execution_count": 17,
   "metadata": {},
   "outputs": [
    {
     "data": {
      "text/plain": [
       "array([0.86831591, 0.79120817, 0.7593398 , 0.7498298 , 0.74238245,\n",
       "       0.73284018, 0.72586058, 0.71779833, 0.71281982, 0.70976325,\n",
       "       0.70723469, 0.70502429, 0.70174649, 0.69741543, 0.69379214,\n",
       "       0.69163113, 0.68955146, 0.6862285 , 0.68321376, 0.68018032,\n",
       "       0.67885534, 0.67522056, 0.67135123, 0.66953759])"
      ]
     },
     "execution_count": 17,
     "metadata": {},
     "output_type": "execute_result"
    }
   ],
   "source": [
    "#vamos a hacer promedios: me va a dar en total 24 valores finales de scores de entrenamiento.\n",
    "\n",
    "np.mean(train_scores,axis=1)"
   ]
  },
  {
   "cell_type": "code",
   "execution_count": 18,
   "metadata": {},
   "outputs": [
    {
     "data": {
      "image/png": "[encoded data removed]",
      "text/plain": [
       "<Figure size 432x288 with 1 Axes>"
      ]
     },
     "metadata": {
      "needs_background": "light"
     },
     "output_type": "display_data"
    }
   ],
   "source": [
    "#vamos a gráficar los scores de train y test con plt.plot\n",
    "\n",
    "plt.plot(np.mean(train_scores,axis=1))\n",
    "plt.plot(np.mean(test_scores,axis=1))\n",
    "plt.xticks(np.arange(24),n);"
   ]
  },
  {
   "cell_type": "markdown",
   "metadata": {},
   "source": [
    "Sabiendo que en un principio estabamos en overfitting (gran diferencia entre el score de entrenamiento y el score de test), traté de variar el parámetro para ver si esto mejoraba. Gracias a la Curva de Validación podemos ver que cuando aumentamos el parametro al comienzo la curva de test mejora (la naranja), sin embargo después comienza a disminuir y tiene un pique. El mejor parámetro que puedo elegir es aprox: 6 vecinos. Logré que el score de test mejore en ese punto pero sigue existiendo un gran trecho entre ambos scores, lo cual tenemos que seguir buscando otro modelo. Seguimos con un problema de varianza."
   ]
  },
  {
   "cell_type": "markdown",
   "metadata": {},
   "source": [
    "Cual es la idea de hacer esta curva de validación? una vez que diagnosticamos en que situación esta nuestro modelo debemos complejificarlo o simplificarlo (underfitting o overfitting). Fijarse en los parámetros de control de cada algoritmo. Por ej., en el caso de Laso() tengo el aplha (mientras mas aumentamos mas lo simplificamos, mientras mas lo reducimos mas lo complejificamos). Depende de cada algoritmo. Se llaman hiperparametros (no se entrenan de forma automática sino que los elijo yo."
   ]
  },
  {
   "cell_type": "markdown",
   "metadata": {},
   "source": [
    "De forma general: la Curva de Validación es muy útil cuando usamos un modelo que tiene parámetros para ver si con el mismo modelo podemos arreglar el problema en el que estamos. De forma general, hay que buscar el máximo del score del test, eso nos va a decir cuál es el mejor valor del parámetro para elegir nuestro modelo."
   ]
  },
  {
   "cell_type": "markdown",
   "metadata": {},
   "source": [
    " "
   ]
  },
  {
   "cell_type": "markdown",
   "metadata": {},
   "source": [
    "La Curva de Aprendizaje nos habla más de si tenemos una buena cantidad de datos y si nuestro modelo ha podido aprender de estos."
   ]
  },
  {
   "cell_type": "code",
   "execution_count": 19,
   "metadata": {},
   "outputs": [],
   "source": [
    "#Lo que hace esta curva es evaluar cómo se comporta el modelo con pocos datos y con el máximo de datos que tenemos.\n",
    "#Mientras más mejora el score en funcion de la cantidad de datos eso es realmente lo que llamamos aprender.\n",
    "\n",
    "from sklearn.model_selection import learning_curve\n",
    "\n",
    "lc = learning_curve(KNeighborsRegressor(n_neighbors=6),X,y,cv=5)\n",
    "samples, train, test = lc[0], lc[1], lc[2]"
   ]
  },
  {
   "cell_type": "code",
   "execution_count": 20,
   "metadata": {
    "scrolled": true
   },
   "outputs": [
    {
     "data": {
      "text/plain": [
       "[<matplotlib.lines.Line2D at 0x21f60897e88>]"
      ]
     },
     "execution_count": 20,
     "metadata": {},
     "output_type": "execute_result"
    },
    {
     "data": {
      "image/png": "[encoded data removed]",
      "text/plain": [
       "<Figure size 432x288 with 1 Axes>"
      ]
     },
     "metadata": {
      "needs_background": "light"
     },
     "output_type": "display_data"
    }
   ],
   "source": [
    "plt.plot(samples[1:],np.mean(train,axis=1)[1:])\n",
    "plt.plot(samples[1:],np.mean(test,axis=1)[1:])"
   ]
  },
  {
   "cell_type": "markdown",
   "metadata": {},
   "source": [
    "Acá vemos que el modelo KNeighborsRegressor va aprendiendo pero que éste no ha terminado de aprender (color naranja).\n",
    "Este algoritmo es muy bueno pero cae en la maldición de la dimensionalidad. Si estamos en dimensión alta este algoritmo consume muchos datos. "
   ]
  },
  {
   "cell_type": "markdown",
   "metadata": {},
   "source": [
    " "
   ]
  },
  {
   "cell_type": "markdown",
   "metadata": {},
   "source": [
    "El modelo aún está aprendiendo, sin embargo no tenemos como obtener datos adicionales.\n",
    "\n",
    "Como solucionar el overfitting y el underfitting?\n",
    "\n",
    "Viarianza Alta:\n",
    "\n",
    "Conseguir más ejemplos.\n",
    "Reducir cantidad de features.\n",
    "Aumentar coeficiente de regularización.\n",
    "\n",
    "\n",
    "Bias Alto:\n",
    "\n",
    "Más features.\n",
    "Modelo más complejo.\n",
    "\n",
    "\n",
    "Mal resultado general:\n",
    "\n",
    "Probar otro algoritmo/familia de modelos, quizás las hipotesis del modelo no son cumplidad por tu dataset"
   ]
  }
 ],
 "metadata": {
  "kernelspec": {
   "display_name": "Python 3",
   "language": "python",
   "name": "python3"
  },
  "language_info": {
   "codemirror_mode": {
    "name": "ipython",
    "version": 3
   },
   "file_extension": ".py",
   "mimetype": "text/x-python",
   "name": "python",
   "nbconvert_exporter": "python",
   "pygments_lexer": "ipython3",
   "version": "3.7.4"
  }
 },
 "nbformat": 4,
 "nbformat_minor": 2
}
