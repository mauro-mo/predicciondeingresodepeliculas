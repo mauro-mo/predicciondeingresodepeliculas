{
 "cells": [
  {
   "cell_type": "code",
   "execution_count": 1,
   "metadata": {},
   "outputs": [],
   "source": [
    "import warnings \n",
    "\n",
    "warnings.simplefilter(\"ignore\")"
   ]
  },
  {
   "cell_type": "code",
   "execution_count": 2,
   "metadata": {},
   "outputs": [],
   "source": [
    "%matplotlib inline\n",
    "import numpy as np\n",
    "import pandas as pd\n",
    "import matplotlib.pyplot as plt"
   ]
  },
  {
   "cell_type": "markdown",
   "metadata": {},
   "source": [
    "Según distintos benchmarks (papers, kaggle.com) los **algoritmos de uso general** que tienen más veces la mejor performance son: **Gradient Boosted Trees, Random Forest y SVM**."
   ]
  },
  {
   "cell_type": "markdown",
   "metadata": {},
   "source": [
    "Decision Trees"
   ]
  },
  {
   "cell_type": "code",
   "execution_count": 3,
   "metadata": {},
   "outputs": [],
   "source": [
    "from sklearn.tree import DecisionTreeRegressor \n",
    "\n",
    "model = DecisionTreeRegressor(max_depth=4)"
   ]
  },
  {
   "cell_type": "code",
   "execution_count": 4,
   "metadata": {},
   "outputs": [],
   "source": [
    "X = pd.read_csv('X_open.csv')\n",
    "y = X['worldwide_gross']\n",
    "\n",
    "X = X.drop('worldwide_gross', axis=1)"
   ]
  },
  {
   "cell_type": "code",
   "execution_count": 5,
   "metadata": {},
   "outputs": [],
   "source": [
    "from sklearn.model_selection import train_test_split\n",
    "\n",
    "\n",
    "X_train, X_test, y_train, y_test = train_test_split(X,y, random_state=42)"
   ]
  },
  {
   "cell_type": "code",
   "execution_count": 6,
   "metadata": {},
   "outputs": [
    {
     "data": {
      "text/plain": [
       "DecisionTreeRegressor(criterion='mse', max_depth=4, max_features=None,\n",
       "                      max_leaf_nodes=None, min_impurity_decrease=0.0,\n",
       "                      min_impurity_split=None, min_samples_leaf=1,\n",
       "                      min_samples_split=2, min_weight_fraction_leaf=0.0,\n",
       "                      presort=False, random_state=None, splitter='best')"
      ]
     },
     "execution_count": 6,
     "metadata": {},
     "output_type": "execute_result"
    }
   ],
   "source": [
    "model.fit(X_train, y_train)"
   ]
  },
  {
   "cell_type": "markdown",
   "metadata": {},
   "source": [
    "Virtudes de los arboles de decision:\n",
    "\n",
    "Metodo poderoso y probado.\n",
    "\n",
    "Interpretable.\n",
    "\n",
    "No necesita escalar los datos (clasificación), y menos preprocesamiento de variables.\n",
    "\n",
    "Sin embargo en la practica existen modelos que obtienen mejor rendimiento. Como mejorar el modelo de arboles de decisión?."
   ]
  },
  {
   "cell_type": "markdown",
   "metadata": {},
   "source": [
    " "
   ]
  },
  {
   "cell_type": "markdown",
   "metadata": {},
   "source": [
    "Ensembles\n",
    "Concepto General\n",
    "\n",
    "Random Forest y Gradient Boosted Trees, forman parte de una familia de algoritmos que se denominan ensembles.\n",
    "\n",
    "$$ Ensemble = Submodelos \\rightarrow Entrenamiento \\rightarrow Predicciones_{Intermedias} \\rightarrow Voto \\rightarrow Prediccion_{final}$$\n",
    "Cómo funciona el algoritmo Random Forest?\n",
    "\n",
    "Vamos a generar cientos de modelos de arboles de decisión que serán entrenados sobre conjuntos de datos bootstrapeados del conjunto de datos original y donde para cada etapa de separación el conjunto de features elegibles sera un subconjunto aleatorio del conjunto original de features.\n",
    "\n",
    "\n",
    "\n",
    "Cada uno de los arboles entrenados luego podrá votar por su predicción y promediaremos estos votos."
   ]
  },
  {
   "cell_type": "markdown",
   "metadata": {},
   "source": [
    "\n",
    "Ensembles del pobre (\"Poor man's ensembles\")\n",
    "\n",
    "Entrenar diversos modelos a mano.\n",
    "\n",
    "Promediar el resultado.\n",
    "\n",
    "Owen Zhang, número 1 de Kaggle.com durante un largo tiempo, ocupaba esta estrategia promediando diversos modelos XGBoost.\n",
    "\n",
    "from sklearn.ensemble import VotingClassifier sirve por ejemplo para hacer un ensemble manual de clasificación.\n",
    "\n",
    "\n",
    "En general los ensembles del pobre funcionan ya que cada uno de los modelos que votarán en conjunto son bastante fuertes.\n",
    "\n"
   ]
  },
  {
   "cell_type": "markdown",
   "metadata": {},
   "source": [
    "Porqué RF es poderoso?\n",
    "\n",
    "**Leo Breiman** creador del Random Forest demostró que un ensemble podía tener buen poder de generalización sí:\n",
    "\n",
    "Los submodelos tienen buen poder de predicción.\n",
    "\n",
    "Los submodelos están descorrelacionados.\n",
    "\n",
    "Así el algoritmo de Random Forest compromete un poco de poder de predicción de cada uno de los decision trees que arma, pero la forma aleatoria de generarlos hace que esten fuertemente descorrelacionados.\n"
   ]
  },
  {
   "cell_type": "code",
   "execution_count": 9,
   "metadata": {},
   "outputs": [],
   "source": [
    "from sklearn.ensemble import RandomForestRegressor\n",
    "from sklearn.model_selection import cross_validate\n",
    "\n",
    "forest = RandomForestRegressor(200)\n",
    "results = cross_validate(forest,X,y,cv=5,scoring='r2', return_train_score=True)"
   ]
  },
  {
   "cell_type": "code",
   "execution_count": 10,
   "metadata": {},
   "outputs": [
    {
     "name": "stdout",
     "output_type": "stream",
     "text": [
      "0.9654064427944192\n",
      "0.5179828852650891\n"
     ]
    }
   ],
   "source": [
    "test_scores = results['test_score']\n",
    "train_scores = results['train_score']\n",
    "print(np.mean(train_scores))\n",
    "print(np.mean(test_scores))"
   ]
  },
  {
   "cell_type": "markdown",
   "metadata": {},
   "source": [
    "Mejor resultado que Lasso! Ya no tenemos Bias y tenemos un mejor score r2. Sin embargo tenemos una diferencia importante entre score de entrenamiento y de test (overfit).\n",
    "\n"
   ]
  },
  {
   "cell_type": "markdown",
   "metadata": {},
   "source": [
    " "
   ]
  },
  {
   "cell_type": "markdown",
   "metadata": {},
   "source": [
    "Gradient Boosted Trees"
   ]
  },
  {
   "cell_type": "code",
   "execution_count": 11,
   "metadata": {},
   "outputs": [],
   "source": [
    "from sklearn.ensemble import GradientBoostingRegressor\n",
    "\n",
    "ensemble = GradientBoostingRegressor()\n",
    "results = cross_validate(ensemble, X, y, cv=5, scoring='r2', return_train_score=True)"
   ]
  },
  {
   "cell_type": "code",
   "execution_count": 12,
   "metadata": {},
   "outputs": [
    {
     "name": "stdout",
     "output_type": "stream",
     "text": [
      "0.9151392143549633\n",
      "0.5252396990065117\n"
     ]
    }
   ],
   "source": [
    "test_scores = results['test_score']\n",
    "train_scores = results['train_score']\n",
    "print(np.mean(train_scores))\n",
    "print(np.mean(test_scores))"
   ]
  },
  {
   "cell_type": "markdown",
   "metadata": {},
   "source": [
    "Cómo optimizamos los parametros de este último modelo?\n",
    "\n",
    "Optimización de hiperparametros.\n",
    "\n",
    "Fijar un learning rate alto.\n",
    "\n",
    "Fijar parametros de los arboles.\n",
    "\n",
    "Fijados estos parametros, elegir el mejor numero de estimadores que conforman el ensemble.\n",
    "\n",
    "\n",
    "Por ahora dijimos que:\n",
    "\n",
    "train_test_split servia para evaluaciones rapidas, testeos y prototipaje.\n",
    "\n",
    "cross_validate es un método más robusto para poder estimar el rendimiento de tu algoritmo.\n",
    "\n",
    "Sin embargo una vez que hemos finalizado nuestra etapa de prototipaje y ya queremos establecer un modelo definitivo deberiamos seguir el flujo siguiente."
   ]
  },
  {
   "cell_type": "code",
   "execution_count": 13,
   "metadata": {},
   "outputs": [],
   "source": [
    "from sklearn.model_selection import train_test_split\n",
    "\n",
    "X_train, X_test, y_train, y_test = train_test_split(X,y, random_state=1)"
   ]
  },
  {
   "cell_type": "code",
   "execution_count": 14,
   "metadata": {},
   "outputs": [
    {
     "data": {
      "text/plain": [
       "1665"
      ]
     },
     "execution_count": 14,
     "metadata": {},
     "output_type": "execute_result"
    }
   ],
   "source": [
    "len(X_train)"
   ]
  },
  {
   "cell_type": "code",
   "execution_count": 15,
   "metadata": {},
   "outputs": [
    {
     "data": {
      "text/plain": [
       "1665"
      ]
     },
     "execution_count": 15,
     "metadata": {},
     "output_type": "execute_result"
    }
   ],
   "source": [
    "len(y_train)"
   ]
  },
  {
   "cell_type": "code",
   "execution_count": 16,
   "metadata": {},
   "outputs": [],
   "source": [
    "from sklearn.model_selection import GridSearchCV\n",
    "\n",
    "param_test1 = {'n_estimators': range(20,501,20)}"
   ]
  },
  {
   "cell_type": "code",
   "execution_count": 17,
   "metadata": {},
   "outputs": [
    {
     "data": {
      "text/plain": [
       "[20,\n",
       " 40,\n",
       " 60,\n",
       " 80,\n",
       " 100,\n",
       " 120,\n",
       " 140,\n",
       " 160,\n",
       " 180,\n",
       " 200,\n",
       " 220,\n",
       " 240,\n",
       " 260,\n",
       " 280,\n",
       " 300,\n",
       " 320,\n",
       " 340,\n",
       " 360,\n",
       " 380,\n",
       " 400,\n",
       " 420,\n",
       " 440,\n",
       " 460,\n",
       " 480,\n",
       " 500]"
      ]
     },
     "execution_count": 17,
     "metadata": {},
     "output_type": "execute_result"
    }
   ],
   "source": [
    "list(param_test1['n_estimators'])"
   ]
  },
  {
   "cell_type": "code",
   "execution_count": 18,
   "metadata": {},
   "outputs": [],
   "source": [
    "estimator = GradientBoostingRegressor(learning_rate=0.1,\n",
    "                                     min_samples_split=500,\n",
    "                                     min_samples_leaf=50,\n",
    "                                     max_depth=8,\n",
    "                                     max_features='sqrt',\n",
    "                                     subsample=0.8,\n",
    "                                     random_state=10)"
   ]
  },
  {
   "cell_type": "code",
   "execution_count": 19,
   "metadata": {},
   "outputs": [],
   "source": [
    "gsearch1 = GridSearchCV(estimator,\n",
    "                        param_grid= param_test1,\n",
    "                       scoring='r2',\n",
    "                       cv=5, return_train_score=True)"
   ]
  },
  {
   "cell_type": "code",
   "execution_count": 20,
   "metadata": {},
   "outputs": [
    {
     "data": {
      "text/plain": [
       "GridSearchCV(cv=5, error_score='raise-deprecating',\n",
       "             estimator=GradientBoostingRegressor(alpha=0.9,\n",
       "                                                 criterion='friedman_mse',\n",
       "                                                 init=None, learning_rate=0.1,\n",
       "                                                 loss='ls', max_depth=8,\n",
       "                                                 max_features='sqrt',\n",
       "                                                 max_leaf_nodes=None,\n",
       "                                                 min_impurity_decrease=0.0,\n",
       "                                                 min_impurity_split=None,\n",
       "                                                 min_samples_leaf=50,\n",
       "                                                 min_samples_split=500,\n",
       "                                                 min_weight_fraction_leaf=0.0,\n",
       "                                                 n_estimators=100,\n",
       "                                                 n_iter_no_change=None,\n",
       "                                                 presort='auto',\n",
       "                                                 random_state=10, subsample=0.8,\n",
       "                                                 tol=0.0001,\n",
       "                                                 validation_fraction=0.1,\n",
       "                                                 verbose=0, warm_start=False),\n",
       "             iid='warn', n_jobs=None,\n",
       "             param_grid={'n_estimators': range(20, 501, 20)},\n",
       "             pre_dispatch='2*n_jobs', refit=True, return_train_score=True,\n",
       "             scoring='r2', verbose=0)"
      ]
     },
     "execution_count": 20,
     "metadata": {},
     "output_type": "execute_result"
    }
   ],
   "source": [
    "gsearch1.fit(X_train,y_train)"
   ]
  },
  {
   "cell_type": "code",
   "execution_count": 21,
   "metadata": {},
   "outputs": [
    {
     "data": {
      "text/plain": [
       "({'mean_fit_time': array([0.02861829, 0.05789857, 0.07839999, 0.10439763, 0.13166389,\n",
       "         0.15975361, 0.18995752, 0.20518484, 0.22954178, 0.25570235,\n",
       "         0.28561726, 0.31275535, 0.33076105, 0.36337562, 0.38284912,\n",
       "         0.41145406, 0.44519076, 0.46259527, 0.50966349, 0.52382665,\n",
       "         0.55142059, 0.57065482, 0.59955378, 0.63477273, 0.65585127]),\n",
       "  'std_fit_time': array([0.00248547, 0.00574512, 0.00058447, 0.01014748, 0.00632882,\n",
       "         0.00732344, 0.00781031, 0.00386627, 0.0068016 , 0.00544892,\n",
       "         0.00374142, 0.00064401, 0.00697345, 0.00580139, 0.00704698,\n",
       "         0.00536571, 0.00777551, 0.00924505, 0.01994091, 0.00834598,\n",
       "         0.004308  , 0.00499817, 0.0058235 , 0.01697258, 0.00704614]),\n",
       "  'mean_score_time': array([0.00183158, 0.        , 0.        , 0.00685654, 0.00245061,\n",
       "         0.0042872 , 0.00525441, 0.00124168, 0.00312099, 0.00632873,\n",
       "         0.00655847, 0.00312152, 0.00936437, 0.00312386, 0.0064867 ,\n",
       "         0.00936437, 0.00315366, 0.01249309, 0.00485148, 0.00685472,\n",
       "         0.00936708, 0.00312285, 0.00312214, 0.00624819, 0.00312333]),\n",
       "  'std_score_time': array([0.00187643, 0.        , 0.        , 0.00724224, 0.0020016 ,\n",
       "         0.00364382, 0.00649459, 0.00200122, 0.00624199, 0.00775215,\n",
       "         0.00804797, 0.00624304, 0.00764597, 0.00624771, 0.00795325,\n",
       "         0.00764597, 0.00630732, 0.00624655, 0.006373  , 0.00723938,\n",
       "         0.00764819, 0.00624571, 0.00624428, 0.00765244, 0.00624666]),\n",
       "  'param_n_estimators': masked_array(data=[20, 40, 60, 80, 100, 120, 140, 160, 180, 200, 220, 240,\n",
       "                     260, 280, 300, 320, 340, 360, 380, 400, 420, 440, 460,\n",
       "                     480, 500],\n",
       "               mask=[False, False, False, False, False, False, False, False,\n",
       "                     False, False, False, False, False, False, False, False,\n",
       "                     False, False, False, False, False, False, False, False,\n",
       "                     False],\n",
       "         fill_value='?',\n",
       "              dtype=object),\n",
       "  'params': [{'n_estimators': 20},\n",
       "   {'n_estimators': 40},\n",
       "   {'n_estimators': 60},\n",
       "   {'n_estimators': 80},\n",
       "   {'n_estimators': 100},\n",
       "   {'n_estimators': 120},\n",
       "   {'n_estimators': 140},\n",
       "   {'n_estimators': 160},\n",
       "   {'n_estimators': 180},\n",
       "   {'n_estimators': 200},\n",
       "   {'n_estimators': 220},\n",
       "   {'n_estimators': 240},\n",
       "   {'n_estimators': 260},\n",
       "   {'n_estimators': 280},\n",
       "   {'n_estimators': 300},\n",
       "   {'n_estimators': 320},\n",
       "   {'n_estimators': 340},\n",
       "   {'n_estimators': 360},\n",
       "   {'n_estimators': 380},\n",
       "   {'n_estimators': 400},\n",
       "   {'n_estimators': 420},\n",
       "   {'n_estimators': 440},\n",
       "   {'n_estimators': 460},\n",
       "   {'n_estimators': 480},\n",
       "   {'n_estimators': 500}],\n",
       "  'split0_test_score': array([0.59752767, 0.66318962, 0.67799512, 0.68736261, 0.69407451,\n",
       "         0.69644295, 0.6990422 , 0.70000709, 0.70023325, 0.70254159,\n",
       "         0.7033932 , 0.70503564, 0.70421407, 0.70477118, 0.70456304,\n",
       "         0.70347179, 0.70591254, 0.70615844, 0.70549909, 0.70619335,\n",
       "         0.70641191, 0.70607005, 0.70488541, 0.70509459, 0.70606468]),\n",
       "  'split1_test_score': array([0.57597423, 0.62900787, 0.6424323 , 0.6465455 , 0.64650036,\n",
       "         0.65232314, 0.65522014, 0.65782511, 0.66077851, 0.66012628,\n",
       "         0.66283287, 0.66126336, 0.66186604, 0.66187646, 0.6613415 ,\n",
       "         0.6605033 , 0.66076393, 0.65800964, 0.65866955, 0.66006482,\n",
       "         0.65823844, 0.6586208 , 0.65890922, 0.65966929, 0.65999987]),\n",
       "  'split2_test_score': array([0.69278935, 0.76455418, 0.79716124, 0.79952293, 0.8100557 ,\n",
       "         0.81563534, 0.82510917, 0.82877848, 0.83334094, 0.83862217,\n",
       "         0.83775255, 0.84330169, 0.84772515, 0.8472231 , 0.84801138,\n",
       "         0.84870529, 0.84767823, 0.84913507, 0.84686398, 0.84695479,\n",
       "         0.84565689, 0.84729161, 0.844779  , 0.84384346, 0.84377605]),\n",
       "  'split3_test_score': array([0.72244447, 0.79285729, 0.79853015, 0.80412714, 0.79927652,\n",
       "         0.80102727, 0.80015696, 0.79786914, 0.79888451, 0.7983842 ,\n",
       "         0.79802751, 0.79674271, 0.79499869, 0.79126377, 0.79374111,\n",
       "         0.78697492, 0.78826422, 0.78952796, 0.7897137 , 0.78747139,\n",
       "         0.78725182, 0.78608141, 0.78645988, 0.78257718, 0.78215173]),\n",
       "  'split4_test_score': array([0.68795286, 0.74774462, 0.75750081, 0.75711135, 0.76033551,\n",
       "         0.76423249, 0.76817491, 0.76961897, 0.76959007, 0.76777876,\n",
       "         0.77084024, 0.77018645, 0.76705348, 0.76429162, 0.76535454,\n",
       "         0.76284789, 0.76488536, 0.76488593, 0.76218244, 0.76202628,\n",
       "         0.76172054, 0.76220427, 0.76279499, 0.76134627, 0.76281201]),\n",
       "  'mean_test_score': array([0.65533772, 0.71947072, 0.73472393, 0.73893391, 0.74204852,\n",
       "         0.74593224, 0.74954068, 0.75081976, 0.75256545, 0.7534906 ,\n",
       "         0.75456927, 0.75530597, 0.75517149, 0.75388522, 0.75460231,\n",
       "         0.75250064, 0.75350086, 0.75354341, 0.75258576, 0.75254213,\n",
       "         0.75185592, 0.75205363, 0.7515657 , 0.75050616, 0.75096087]),\n",
       "  'std_test_score': array([0.05763723, 0.06255975, 0.06359928, 0.06236477, 0.06271426,\n",
       "         0.06235501, 0.0633503 , 0.06304688, 0.06344048, 0.06446653,\n",
       "         0.06341511, 0.06488882, 0.06572082, 0.06495415, 0.06568747,\n",
       "         0.06544955, 0.06491881, 0.06623193, 0.06541616, 0.06469005,\n",
       "         0.06477375, 0.06507746, 0.06449293, 0.06351607, 0.06327329]),\n",
       "  'rank_test_score': array([25, 24, 23, 22, 21, 20, 19, 17, 10,  8,  4,  1,  2,  5,  3, 12,  7,\n",
       "          6,  9, 11, 14, 13, 15, 18, 16]),\n",
       "  'split0_train_score': array([0.68066158, 0.75623065, 0.77760976, 0.7899523 , 0.79939662,\n",
       "         0.80721134, 0.81313311, 0.81892963, 0.82372765, 0.82929588,\n",
       "         0.83514081, 0.84023253, 0.84407316, 0.84748266, 0.85166288,\n",
       "         0.8551888 , 0.85843992, 0.86172945, 0.86499935, 0.86769559,\n",
       "         0.87070639, 0.87344649, 0.87645248, 0.87910858, 0.88182   ]),\n",
       "  'split1_train_score': array([0.69142934, 0.76559962, 0.78351038, 0.79583912, 0.80537566,\n",
       "         0.81212177, 0.81925612, 0.82503858, 0.82991642, 0.83460272,\n",
       "         0.83935692, 0.84280927, 0.84702258, 0.85003498, 0.85324208,\n",
       "         0.85760284, 0.85982066, 0.86212491, 0.86586014, 0.868579  ,\n",
       "         0.87076369, 0.87307738, 0.87522353, 0.87785991, 0.87989025]),\n",
       "  'split2_train_score': array([0.65660289, 0.72277734, 0.74370152, 0.75580649, 0.76648338,\n",
       "         0.77484212, 0.78261624, 0.78816782, 0.79419269, 0.79953708,\n",
       "         0.80393859, 0.80824339, 0.8128949 , 0.81664293, 0.82036244,\n",
       "         0.82531384, 0.82854363, 0.8317206 , 0.83532191, 0.83830875,\n",
       "         0.84191009, 0.8446204 , 0.84784026, 0.85150796, 0.85407339]),\n",
       "  'split3_train_score': array([0.65990185, 0.73442773, 0.75630995, 0.76984728, 0.78219629,\n",
       "         0.7916438 , 0.80053366, 0.80720817, 0.81311195, 0.81875288,\n",
       "         0.82410506, 0.82833448, 0.83300978, 0.83737951, 0.84069629,\n",
       "         0.84523472, 0.8488115 , 0.85181917, 0.85602197, 0.85858726,\n",
       "         0.86156963, 0.86437619, 0.86678539, 0.86996948, 0.87255651]),\n",
       "  'split4_train_score': array([0.66373279, 0.73721135, 0.75737236, 0.76994602, 0.78160029,\n",
       "         0.79015388, 0.79782581, 0.80396811, 0.80891826, 0.81473223,\n",
       "         0.81948909, 0.82368469, 0.82780073, 0.83195596, 0.83564944,\n",
       "         0.83968048, 0.84316154, 0.84691033, 0.85027242, 0.85259889,\n",
       "         0.85532859, 0.8577945 , 0.86025062, 0.86336422, 0.86586128]),\n",
       "  'mean_train_score': array([0.67046569, 0.74324934, 0.76370079, 0.77627824, 0.78701045,\n",
       "         0.79519458, 0.80267299, 0.80866246, 0.81397339, 0.81938416,\n",
       "         0.8244061 , 0.82866087, 0.83296023, 0.83669921, 0.84032263,\n",
       "         0.84460414, 0.84775545, 0.85086089, 0.85449516, 0.8571539 ,\n",
       "         0.86005568, 0.86266299, 0.86531046, 0.86836203, 0.87084029]),\n",
       "  'std_train_score': array([0.01336065, 0.01550116, 0.0147005 , 0.0146298 , 0.01388888,\n",
       "         0.01329038, 0.01276526, 0.01278886, 0.01238466, 0.01221305,\n",
       "         0.01250558, 0.01245651, 0.01225143, 0.01199451, 0.01196579,\n",
       "         0.01164265, 0.01141088, 0.01120607, 0.01120069, 0.01113196,\n",
       "         0.01078887, 0.01074166, 0.01053944, 0.01017172, 0.01011257])},\n",
       " {'n_estimators': 240},\n",
       " 0.7553059694284987)"
      ]
     },
     "execution_count": 21,
     "metadata": {},
     "output_type": "execute_result"
    }
   ],
   "source": [
    "gsearch1.cv_results_, gsearch1.best_params_, gsearch1.best_score_"
   ]
  },
  {
   "cell_type": "code",
   "execution_count": 22,
   "metadata": {},
   "outputs": [],
   "source": [
    "final_results = cross_validate(gsearch1.best_estimator_,X_train,y_train,return_train_score=True)"
   ]
  },
  {
   "cell_type": "code",
   "execution_count": 23,
   "metadata": {},
   "outputs": [
    {
     "name": "stdout",
     "output_type": "stream",
     "text": [
      "0.8183169366503803\n",
      "0.74138761251573\n"
     ]
    }
   ],
   "source": [
    "test_scores = final_results['test_score']\n",
    "train_scores = final_results['train_score']\n",
    "print(np.mean(train_scores))\n",
    "print(np.mean(test_scores))\n"
   ]
  },
  {
   "cell_type": "code",
   "execution_count": 24,
   "metadata": {},
   "outputs": [],
   "source": [
    "estimator = GradientBoostingRegressor(learning_rate=0.1,\n",
    "                                     min_samples_split=500,\n",
    "                                     min_samples_leaf=50,\n",
    "                                     max_depth=8,\n",
    "                                     max_features='sqrt',\n",
    "                                     subsample=0.8,\n",
    "                                     random_state=10,\n",
    "                                     n_estimators=240)"
   ]
  },
  {
   "cell_type": "code",
   "execution_count": 25,
   "metadata": {},
   "outputs": [
    {
     "data": {
      "text/plain": [
       "GradientBoostingRegressor(alpha=0.9, criterion='friedman_mse', init=None,\n",
       "                          learning_rate=0.1, loss='ls', max_depth=8,\n",
       "                          max_features='sqrt', max_leaf_nodes=None,\n",
       "                          min_impurity_decrease=0.0, min_impurity_split=None,\n",
       "                          min_samples_leaf=50, min_samples_split=500,\n",
       "                          min_weight_fraction_leaf=0.0, n_estimators=240,\n",
       "                          n_iter_no_change=None, presort='auto',\n",
       "                          random_state=10, subsample=0.8, tol=0.0001,\n",
       "                          validation_fraction=0.1, verbose=0, warm_start=False)"
      ]
     },
     "execution_count": 25,
     "metadata": {},
     "output_type": "execute_result"
    }
   ],
   "source": [
    "estimator.fit(X_train, y_train)"
   ]
  },
  {
   "cell_type": "code",
   "execution_count": 26,
   "metadata": {},
   "outputs": [
    {
     "data": {
      "text/plain": [
       "0.8092888852563106"
      ]
     },
     "execution_count": 26,
     "metadata": {},
     "output_type": "execute_result"
    }
   ],
   "source": [
    "estimator.score(X_test,y_test)"
   ]
  }
 ],
 "metadata": {
  "kernelspec": {
   "display_name": "Python 3",
   "language": "python",
   "name": "python3"
  },
  "language_info": {
   "codemirror_mode": {
    "name": "ipython",
    "version": 3
   },
   "file_extension": ".py",
   "mimetype": "text/x-python",
   "name": "python",
   "nbconvert_exporter": "python",
   "pygments_lexer": "ipython3",
   "version": "3.7.4"
  }
 },
 "nbformat": 4,
 "nbformat_minor": 2
}
